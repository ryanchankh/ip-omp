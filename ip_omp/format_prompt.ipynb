{
 "cells": [
  {
   "cell_type": "code",
   "execution_count": 2,
   "id": "bd591ab2-86cc-4861-bd94-a6c840474241",
   "metadata": {},
   "outputs": [],
   "source": [
    "import ip_omp.util as util"
   ]
  },
  {
   "cell_type": "code",
   "execution_count": 3,
   "id": "17724aa0-78b5-4e57-b4c0-6576ac256e6b",
   "metadata": {},
   "outputs": [],
   "source": [
    "dataset_name = 'cifar10'\n",
    "label_names = util.get_concepts(f\"ip_omp/label_sets/{dataset_name}.txt\")\n",
    "concept_names = util.get_concepts(f\"ip_omp/concept_sets/{dataset_name}.txt\")"
   ]
  },
  {
   "cell_type": "code",
   "execution_count": 4,
   "id": "6261d9bf-4ebd-4860-910e-9e3493a9d35a",
   "metadata": {},
   "outputs": [
    {
     "data": {
      "text/plain": [
       "['airplane',\n",
       " 'automobile',\n",
       " 'bird',\n",
       " 'cat',\n",
       " 'deer',\n",
       " 'dog',\n",
       " 'frog',\n",
       " 'horse',\n",
       " 'ship',\n",
       " 'truck']"
      ]
     },
     "execution_count": 4,
     "metadata": {},
     "output_type": "execute_result"
    }
   ],
   "source": [
    "label_names"
   ]
  },
  {
   "cell_type": "code",
   "execution_count": 5,
   "id": "f3f23d09-cab7-42ed-bc0f-051d2e5839c2",
   "metadata": {},
   "outputs": [
    {
     "data": {
      "text/plain": [
       "['a  Hunter',\n",
       " 'a barn',\n",
       " 'a beak',\n",
       " 'a bed for carrying cargo',\n",
       " 'a beetle',\n",
       " 'a bird feeder',\n",
       " 'a birdfeeder',\n",
       " 'a birdhouse',\n",
       " 'a boat',\n",
       " 'a branch',\n",
       " 'a bridle',\n",
       " 'a cab for the driver',\n",
       " 'a cage',\n",
       " 'a captain',\n",
       " 'a cat bed',\n",
       " 'a cat food dish',\n",
       " 'a cat toy',\n",
       " 'a collar',\n",
       " 'a copilot',\n",
       " 'a dashboard',\n",
       " 'a deck',\n",
       " 'a deer stand',\n",
       " 'a dock',\n",
       " 'a dog bowl',\n",
       " 'a driver',\n",
       " 'a field',\n",
       " 'a flight attendant',\n",
       " 'a fly',\n",
       " 'a food bowl',\n",
       " 'a forest',\n",
       " 'a four-legged mammal',\n",
       " 'a gear shift',\n",
       " 'a green or brown body',\n",
       " 'a grille',\n",
       " 'a halter',\n",
       " 'a hitch',\n",
       " 'a large body',\n",
       " 'a large size',\n",
       " 'a large, metal body',\n",
       " 'a large, rectangular body',\n",
       " 'a lead rope',\n",
       " 'a leaf',\n",
       " 'a leash',\n",
       " 'a lily pad',\n",
       " 'a litter box',\n",
       " 'a long neck',\n",
       " 'a mane and tail',\n",
       " 'a mosquito',\n",
       " 'a nest',\n",
       " 'a nose',\n",
       " 'a passenger',\n",
       " 'a pasture',\n",
       " 'a pedal',\n",
       " 'a person',\n",
       " 'a pilot',\n",
       " 'a pointed front end',\n",
       " 'a pond',\n",
       " 'a port',\n",
       " 'a reddish-brown coat',\n",
       " 'a reins',\n",
       " 'a rider',\n",
       " 'a rifle',\n",
       " 'a road',\n",
       " 'a rudder',\n",
       " 'a runway',\n",
       " 'a saddle',\n",
       " 'a scratching post',\n",
       " 'a seatbelt',\n",
       " 'a small, lithe body',\n",
       " 'a spider',\n",
       " 'a steering wheel',\n",
       " 'a tail',\n",
       " 'a tire',\n",
       " 'a toy',\n",
       " 'a trailer',\n",
       " 'a tree',\n",
       " 'a wet nose',\n",
       " 'a wide mouth',\n",
       " 'a windshield',\n",
       " 'a worm',\n",
       " 'amphibian',\n",
       " 'an engine',\n",
       " 'animal',\n",
       " 'antlers',\n",
       " 'cargo',\n",
       " 'engines',\n",
       " 'engines on the wings',\n",
       " 'feathers',\n",
       " 'food',\n",
       " 'four legs',\n",
       " 'four round, black tires',\n",
       " 'four wheels',\n",
       " 'fur',\n",
       " 'grass',\n",
       " 'hooves',\n",
       " 'insects',\n",
       " 'landing gear',\n",
       " 'large sails or engines',\n",
       " 'large, brown eyes',\n",
       " 'large, bulging eyes',\n",
       " 'lily pads',\n",
       " 'living thing',\n",
       " 'long ears',\n",
       " 'long hind legs for jumping',\n",
       " 'long, thin legs',\n",
       " 'machine',\n",
       " 'mammal',\n",
       " 'multiple sails',\n",
       " 'nature',\n",
       " 'object',\n",
       " 'organism',\n",
       " 'pointed ears',\n",
       " 'quadruped',\n",
       " 'side windows',\n",
       " 'taillights',\n",
       " 'the ability to fly',\n",
       " 'the ocean',\n",
       " 'transportation',\n",
       " 'trees',\n",
       " 'two headlights',\n",
       " 'vertebrate',\n",
       " 'vessel',\n",
       " 'watercraft',\n",
       " 'webbed feet',\n",
       " 'whiskers',\n",
       " 'white spots on the coat',\n",
       " 'wings',\n",
       " 'woods']"
      ]
     },
     "execution_count": 5,
     "metadata": {},
     "output_type": "execute_result"
    }
   ],
   "source": [
    "concept_names"
   ]
  },
  {
   "cell_type": "code",
   "execution_count": 25,
   "id": "9cd8ba75-80bf-4e0c-9232-2e228bc5720b",
   "metadata": {},
   "outputs": [],
   "source": [
    "def llama_prompt(system_instruction, user_input):\n",
    "    prompt = f\"\"\"<s>[INST] <<SYS>>\n",
    "{system_instruction}\n",
    "<</SYS>>\n",
    "\n",
    "{user_input} [/INST]\n",
    "\n",
    "\"\"\"\n",
    "    return prompt\n",
    "\n",
    "def format_prompt(class_name, concepts):\n",
    "    instruction = \"You are a helpful, respectful and honest assistant. Always answer as helpfully as possible, while being safe.  Your answers should not include any harmful, unethical, racist, sexist, toxic, dangerous, or illegal content. Please ensure that your responses are socially unbiased and positive in nature.\"\n",
    "    user = f\"Answer yes/no/depends for whether the following concepts are salient for recognizing a '{class_name}': \"  \n",
    "    user += \", \".join(concepts) + \". \"\n",
    "    user += \"Output format: <concept>: <answer>: <explanation>. Answer as a list.\"\n",
    "    return instruction, user"
   ]
  },
  {
   "cell_type": "code",
   "execution_count": 33,
   "id": "4d3a6ac9-c14a-4260-8f69-3ff7a293a452",
   "metadata": {},
   "outputs": [
    {
     "data": {
      "text/plain": [
       "\"<s>[INST] <<SYS>>\\nYou are a helpful, respectful and honest assistant. Always answer as helpfully as possible, while being safe.  Your answers should not include any harmful, unethical, racist, sexist, toxic, dangerous, or illegal content. Please ensure that your responses are socially unbiased and positive in nature.\\n<</SYS>>\\n\\nAnswer yes/no/depends for whether the following concepts are salient for recognizing a 'airplane': a  Hunter, a barn, a beak, a bed for carrying cargo, a beetle, a bird feeder, a birdfeeder, a birdhouse, a boat, a branch, a bridle, a cab for the driver, a cage, a captain, a cat bed, a cat food dish, a cat toy, a collar, a copilot, a dashboard, a deck, a deer stand, a dock, a dog bowl, a driver, a field, a flight attendant, a fly, a food bowl, a forest, a four-legged mammal, a gear shift, a green or brown body, a grille, a halter, a hitch, a large body, a large size, a large, metal body, a large, rectangular body, a lead rope, a leaf, a leash, a lily pad, a litter box, a long neck, a mane and tail, a mosquito, a nest, a nose, a passenger, a pasture, a pedal, a person, a pilot, a pointed front end, a pond, a port, a reddish-brown coat, a reins, a rider, a rifle, a road, a rudder, a runway, a saddle, a scratching post, a seatbelt, a small, lithe body, a spider, a steering wheel, a tail, a tire, a toy, a trailer, a tree, a wet nose, a wide mouth, a windshield, a worm, amphibian, an engine, animal, antlers, cargo, engines, engines on the wings, feathers, food, four legs, four round, black tires, four wheels, fur, grass, hooves, insects, landing gear, large sails or engines, large, brown eyes, large, bulging eyes, lily pads, living thing, long ears, long hind legs for jumping, long, thin legs, machine, mammal, multiple sails, nature, object, organism, pointed ears, quadruped, side windows, taillights, the ability to fly, the ocean, transportation, trees, two headlights, vertebrate, vessel, watercraft, webbed feet, whiskers, white spots on the coat, wings, woods. Output format: <concept>: <answer>: <explanation>. Answer as a list. [/INST]\\n\\n\""
      ]
     },
     "execution_count": 33,
     "metadata": {},
     "output_type": "execute_result"
    }
   ],
   "source": [
    "llama_prompt(*(format_prompt(label_names[0], concept_names)))"
   ]
  },
  {
   "cell_type": "code",
   "execution_count": null,
   "id": "c9c4c320-2203-4537-8f24-2881978b0a3d",
   "metadata": {},
   "outputs": [],
   "source": []
  }
 ],
 "metadata": {
  "kernelspec": {
   "display_name": "llava",
   "language": "python",
   "name": "llava"
  },
  "language_info": {
   "codemirror_mode": {
    "name": "ipython",
    "version": 3
   },
   "file_extension": ".py",
   "mimetype": "text/x-python",
   "name": "python",
   "nbconvert_exporter": "python",
   "pygments_lexer": "ipython3",
   "version": "3.10.13"
  }
 },
 "nbformat": 4,
 "nbformat_minor": 5
}
